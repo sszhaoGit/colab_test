{
  "nbformat": 4,
  "nbformat_minor": 0,
  "metadata": {
    "colab": {
      "name": "Untitled",
      "version": "0.3.2",
      "provenance": [],
      "include_colab_link": true
    },
    "kernelspec": {
      "name": "python3",
      "display_name": "Python 3"
    }
  },
  "cells": [
    {
      "cell_type": "markdown",
      "metadata": {
        "id": "view-in-github",
        "colab_type": "text"
      },
      "source": [
        "<a href=\"https://colab.research.google.com/github/sszhaoGit/colab_test/blob/master/text_cluster.ipynb\" target=\"_parent\"><img src=\"https://colab.research.google.com/assets/colab-badge.svg\" alt=\"Open In Colab\"/></a>"
      ]
    },
    {
      "cell_type": "code",
      "metadata": {
        "id": "dCFJ1GmPq1ZI",
        "colab_type": "code",
        "colab": {}
      },
      "source": [
        ""
      ],
      "execution_count": 0,
      "outputs": []
    },
    {
      "cell_type": "markdown",
      "metadata": {
        "id": "uzf0ge5rq2PC",
        "colab_type": "text"
      },
      "source": [
        "# 文本聚类\n",
        "\n",
        "\n",
        "---\n",
        "\n",
        "\n",
        "## 文本表示\n",
        "* bow\n",
        "* topic model\n",
        "* doc2vec\n",
        "## 聚类算法\n",
        "* 距离聚类\n",
        "* 层次聚类\n",
        "* 密度聚类\n",
        "## 参考文献\n",
        "   1. [Clustering by fast search and find of density peaks](https://science.sciencemag.org/content/344/6191/1492)\n",
        "\n",
        "\n",
        "\n",
        "\n",
        "\n",
        "\n",
        "\n"
      ]
    },
    {
      "cell_type": "code",
      "metadata": {
        "id": "ZNBQIvpp6YMD",
        "colab_type": "code",
        "colab": {}
      },
      "source": [
        ""
      ],
      "execution_count": 0,
      "outputs": []
    }
  ]
}