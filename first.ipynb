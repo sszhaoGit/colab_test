{
  "nbformat": 4,
  "nbformat_minor": 0,
  "metadata": {
    "colab": {
      "name": "first.ipynb",
      "version": "0.3.2",
      "provenance": [],
      "collapsed_sections": [],
      "include_colab_link": true
    },
    "kernelspec": {
      "name": "python3",
      "display_name": "Python 3"
    }
  },
  "cells": [
    {
      "cell_type": "markdown",
      "metadata": {
        "id": "view-in-github",
        "colab_type": "text"
      },
      "source": [
        "<a href=\"https://colab.research.google.com/github/sszhaoGit/colab_test/blob/master/first.ipynb\" target=\"_parent\"><img src=\"https://colab.research.google.com/assets/colab-badge.svg\" alt=\"Open In Colab\"/></a>"
      ]
    },
    {
      "metadata": {
        "id": "Y5ZkEsFqh52l",
        "colab_type": "code",
        "colab": {
          "base_uri": "https://localhost:8080/",
          "height": 34
        },
        "outputId": "b7c1e4bd-8b45-447f-ec16-99303478c0be"
      },
      "cell_type": "code",
      "source": [
        "print(\"hello zada\")"
      ],
      "execution_count": 1,
      "outputs": [
        {
          "output_type": "stream",
          "text": [
            "hello zada\n"
          ],
          "name": "stdout"
        }
      ]
    },
    {
      "metadata": {
        "id": "-m1xdixyiZKk",
        "colab_type": "code",
        "colab": {
          "base_uri": "https://localhost:8080/",
          "height": 34
        },
        "outputId": "ede903af-3601-4f19-fbce-eff4c64d4edb"
      },
      "cell_type": "code",
      "source": [
        "print(\"bert\")"
      ],
      "execution_count": 2,
      "outputs": [
        {
          "output_type": "stream",
          "text": [
            "bert\n"
          ],
          "name": "stdout"
        }
      ]
    },
    {
      "metadata": {
        "id": "OroX_BW3ieXY",
        "colab_type": "text"
      },
      "cell_type": "markdown",
      "source": [
        "# **bert文档**\n",
        "\n",
        "```\n",
        "print(\"zada\")\n",
        "```\n",
        "\n"
      ]
    },
    {
      "metadata": {
        "id": "16PkyqpRiwLE",
        "colab_type": "code",
        "colab": {
          "base_uri": "https://localhost:8080/",
          "height": 51
        },
        "outputId": "4f3fb002-f797-4045-8c9a-00b910167b63"
      },
      "cell_type": "code",
      "source": [
        "import tensorflow as tf\n",
        "import numpy as np\n",
        "x=tf.placeholder(tf.float32,[2,None])\n",
        "y=tf.placeholder(tf.float32,[1,None])\n",
        "w=tf.Variable(tf.truncated_normal([2,1],stddev=0.1))\n",
        "b=tf.Variable(tf.truncated_normal([1],stddev=0.1))\n",
        "out = tf.matmul(x,w) + b\n",
        "sess = tf.Session()\n",
        "sess.run(tf.global_variables_initializer())\n",
        "sess.run([out],feed_dict={x:np.array([[2,4],[3,5]])})"
      ],
      "execution_count": 14,
      "outputs": [
        {
          "output_type": "execute_result",
          "data": {
            "text/plain": [
              "[array([[-0.37184465],\n",
              "        [-0.4650631 ]], dtype=float32)]"
            ]
          },
          "metadata": {
            "tags": []
          },
          "execution_count": 14
        }
      ]
    }
  ]
}